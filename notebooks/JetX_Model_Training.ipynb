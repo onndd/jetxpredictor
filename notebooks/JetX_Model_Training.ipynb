{
 "cells": [
  {
   "cell_type": "markdown",
   "metadata": {},
   "source": [
    "# JetX Predictor - Model Eğitimi\n",
    "\n",
    "Google Colab'da model eğitimi için notebook"
   ]
  },
  {
   "cell_type": "code",
   "execution_count": null,
   "metadata": {},
   "outputs": [],
   "source": [
    "# Kütüphaneleri yükle\n",
    "!pip install -q tensorflow scikit-learn pandas numpy"
   ]
  },
  {
   "cell_type": "code",
   "execution_count": null,
   "metadata": {},
   "outputs": [],
   "source": [
    "# GitHub'dan projeyi klonla\n",
    "!git clone https://github.com/onndd/jetxpredictor.git\n",
    "%cd jetxpredictor"
   ]
  },
  {
   "cell_type": "code",
   "execution_count": null,
   "metadata": {},
   "outputs": [],
   "source": [
    "print('Model eğitimi başlıyor...')"
   ]
  }
 ],
 "metadata": {
  "kernelspec": {
   "display_name": "Python 3",
   "language": "python",
   "name": "python3"
  }
 },
 "nbformat": 4,
 "nbformat_minor": 0
}
