{
  "nbformat": 4,
  "nbformat_minor": 0,
  "metadata": {
    "colab": {
      "provenance": [],
      "gpuType": "T4",
      "collapsed_sections": []
    },
    "kernelspec": {
      "name": "python3",
      "display_name": "Python 3"
    },
    "language_info": {
      "name": "python"
    },
    "accelerator": "GPU"
  },
  "cells": [
    {
      "cell_type": "markdown",
      "source": [
        "# 🎯 JetX Progressive Training - Google Colab'da Model Eğitimi\n",
        "\n",
        "**Bu notebook Progressive Training stratejisi ile JetX modelini Google Colab'da eğitir.**\n",
        "\n",
        "## 📊 Sorun:\n",
        "\n",
        "Mevcut model **1.5 altı değerleri tahmin edemiyor** - Hep 1.5 üstü tahmin ediyor!\n",
        "\n",
        "## 🎯 Çözüm: 3 Aşamalı Progressive Training\n",
        "\n",
        "### AŞAMA 1: Foundation Training (100 epoch) ⏱️ ~30 dakika\n",
        "\n",
        "- Model hem **değer tahmin etmeyi** HEM DE **1.5 eşiğini** birlikte öğrenir\n",
        "- Learning Rate: 0.0001\n",
        "- Batch Size: 64\n",
        "- Loss Weight: Regression 60%, Classification 10%, Threshold 30%\n",
        "- **Threshold baştan aktif!** (Eski yöntem: sadece regression)\n",
        "- Monitor: val_threshold_accuracy | Patience: 10\n",
        "\n",
        "### AŞAMA 2: Threshold Fine-Tuning (80 epoch) ⏱️ ~25 dakika\n",
        "\n",
        "- **1.5 altı/üstü ayrımını** keskinleştirir (yumuşak strateji)\n",
        "- Learning Rate: 0.00005\n",
        "- Batch Size: 32\n",
        "- Class Weight: **5x** (yumuşak - agresif değil!)\n",
        "- Loss Weight: Regression 40%, Threshold 60%\n",
        "- Monitor: val_threshold_accuracy | Patience: 10\n",
        "\n",
        "### AŞAMA 3: Full Model Fine-Tuning (80 epoch) ⏱️ ~40 dakika\n",
        "\n",
        "- **Tüm output'ları** birlikte optimize eder (dengeli final push)\n",
        "- Learning Rate: 0.00003\n",
        "- Batch Size: 16\n",
        "- Class Weight: **7x** (dengeli!)\n",
        "- Loss Weight: Regression 30%, Classification 15%, Threshold 55%\n",
        "- Monitor: val_threshold_accuracy | Patience: 10\n",
        "\n",
        "## 🎯 Hedefler:\n",
        "\n",
        "- 🔴 **1.5 Altı Doğruluk**: %70-80%+\n",
        "- 🟢 **1.5 Üstü Doğruluk**: %75-85%+\n",
        "- 💰 **Para Kaybı Riski**: %20 altı\n",
        "- 📊 **MAE**: < 2.0\n",
        "\n",
        "## ⏱️ Toplam Süre: ~1.5 saat (GPU ile)\n",
        "\n",
        "---"
      ],
      "metadata": {
        "id": "header"
      }
    },
    {
      "cell_type": "markdown",
      "source": [
        "## 📦 Adım 1: Hazırlık (2-3 dakika)\n",
        "\n",
        "Aşağıdaki hücreyi çalıştırın. Kütüphaneler yüklenecek ve proje hazırlanacak."
      ],
      "metadata": {
        "id": "setup-header"
      }
    },
    {
      "cell_type": "code",
      "source": [
        "#@title ▶️ Hazırlık - Buraya tıklayın { display-mode: \"form\" }\n",
        "\n",
        "print(\"📦 Kütüphaneler yükleniyor...\")\n",
        "!pip install -q tensorflow scikit-learn pandas numpy scipy joblib matplotlib seaborn tqdm\n",
        "\n",
        "print(\"\\n📥 Proje GitHub'dan indiriliyor...\")\n",
        "import os\n",
        "if os.path.exists('jetxpredictor'):\n",
        "    !rm -rf jetxpredictor\n",
        "!git clone https://github.com/onndd/jetxpredictor.git\n",
        "%cd jetxpredictor\n",
        "\n",
        "print(\"\\n✅ Hazırlık tamamlandı!\")\n",
        "print(\"\\n➡️ Şimdi bir sonraki hücreye geçin (aşağıdaki ▶️ butonuna tıklayın)\")"
      ],
      "metadata": {
        "id": "setup-cell",
        "cellView": "form"
      },
      "execution_count": null,
      "outputs": []
    },
    {
      "cell_type": "markdown",
      "source": [
        "## 🔥 Adım 2: Progressive Training (1.5 saat)\n",
        "\n",
        "Aşağıdaki hücreyi çalıştırın. 3 aşamalı model eğitimi başlayacak.\n",
        "\n",
        "**⚠️ ÖNEMLİ:**\n",
        "\n",
        "- Bu işlem 1.5 saat sürecek\n",
        "- Tarayıcınızı kapatmayın!\n",
        "- Her 5 epoch'ta detaylı metrik açıklamaları göreceksiniz\n",
        "- 3 aşama sırayla otomatik çalışacak"
      ],
      "metadata": {
        "id": "training-header"
      }
    },
    {
      "cell_type": "code",
      "source": [
        "#@title ▶️ Progressive Training Başlat - Buraya tıklayın { display-mode: \"form\" }\n",
        "\n",
        "print(\"🎯 PROGRESSIVE TRAINING Başlatılıyor...\")\n",
        "print(\"⏱️ Tahmini süre: 1.5 saat (GPU ile)\")\n",
        "print(\"📊 İlerlemeyi aşağıda görebilirsiniz\\n\")\n",
        "print(\"=\"*70)\n",
        "\n",
        "!python notebooks/jetx_PROGRESSIVE_TRAINING.py\n",
        "\n",
        "print(\"\\n\" + \"=\"*70)\n",
        "print(\"✅ Progressive Training tamamlandı!\")\n",
        "print(\"\\n➡️ Şimdi bir sonraki hücreye geçin (aşağıdaki ▶️ butonuna tıklayın)\")"
      ],
      "metadata": {
        "id": "training-cell",
        "cellView": "form"
      },
      "execution_count": null,
      "outputs": []
    },
    {
      "cell_type": "markdown",
      "source": [
        "## 💾 Adım 3: Modeli İndir\n",
        "\n",
        "Aşağıdaki hücreyi çalıştırın. Eğitilmiş model dosyaları bilgisayarınıza indirilecek.\n",
        "\n",
        "**İndirilen dosyalar:**\n",
        "- `jetx_progressive_final.h5` - Ana model dosyası\n",
        "- `scaler_progressive.pkl` - Normalizer\n",
        "- `progressive_model_info.json` - Model bilgileri"
      ],
      "metadata": {
        "id": "download-header"
      }
    },
    {
      "cell_type": "code",
      "source": [
        "#@title ▶️ Dosyaları İndir - Buraya tıklayın { display-mode: \"form\" }\n",
        "\n",
        "from google.colab import files\n",
        "import os\n",
        "\n",
        "print(\"💾 Dosyalar indiriliyor...\\n\")\n",
        "\n",
        "model_files = [\n",
        "    'jetx_progressive_final.h5',\n",
        "    'scaler_progressive.pkl',\n",
        "    'progressive_model_info.json'\n",
        "]\n",
        "\n",
        "for file in model_files:\n",
        "    if os.path.exists(file):\n",
        "        print(f\"📥 {file} indiriliyor...\")\n",
        "        files.download(file)\n",
        "    else:\n",
        "        print(f\"⚠️ {file} bulunamadı!\")\n",
        "\n",
        "print(\"\\n✅ Tüm dosyalar bilgisayarınıza indirildi!\")\n",
        "print(\"\\n📁 İndirilen dosyalar:\")\n",
        "print(\"   • jetx_progressive_final.h5 (Ana model)\")\n",
        "print(\"   • scaler_progressive.pkl (Normalizer)\")\n",
        "print(\"   • progressive_model_info.json (Model bilgileri)\")\n",
        "print(\"\\n➡️ Bu dosyaları lokal projenizin 'models/' klasörüne kopyalayın:\")\n",
        "print(\"   1. jetx_progressive_final.h5 → models/jetx_model.h5\")\n",
        "print(\"   2. scaler_progressive.pkl → models/scaler.pkl\")\n",
        "print(\"\\n🎉 Tamamlandı! Artık yeni modeli kullanabilirsiniz.\")"
      ],
      "metadata": {
        "id": "download-cell",
        "cellView": "form"
      },
      "execution_count": null,
      "outputs": []
    },
    {
      "cell_type": "markdown",
      "source": [
        "---\n",
        "\n",
        "## 📊 Metrik Açıklamaları\n",
        "\n",
        "Eğitim sırasında her 5 epoch'ta göreceğiniz metriklerin anlamları:\n",
        "\n",
        "### 🔴 1.5 ALTI DOĞRULUĞU\n",
        "\n",
        "**Ne anlama geliyor?**\n",
        "- Model, **gerçekten 1.5 altında olan** değerleri ne kadar doğru tahmin ediyor?\n",
        "- Örnek: 100 adet 1.5 altı değerden kaç tanesini doğru buldu\n",
        "- **Hedef:** %75+\n",
        "- **Neden önemli:** 1.5 altını bulamazsak bahis yapamayız → fırsat kaçırırız\n",
        "\n",
        "### 🟢 1.5 ÜSTÜ DOĞRULUĞU\n",
        "\n",
        "**Ne anlama geliyor?**\n",
        "- Model, **gerçekten 1.5 üstünde olan** değerleri ne kadar doğru tahmin ediyor?\n",
        "- Örnek: 100 adet 1.5 üstü değerden kaç tanesini doğru buldu\n",
        "- **Hedef:** %75+\n",
        "- **Neden önemli:** Doğru tahmin edersek gereksiz bahisten kaçınırız\n",
        "\n",
        "### 💰 PARA KAYBI RİSKİ\n",
        "\n",
        "**Ne anlama geliyor?**\n",
        "- Model **1.5 altı olduğunda** yanlışlıkla \"1.5 üstü\" deme oranı\n",
        "- Örnek: 100 oyunun kaçında yanlış tahminle **PARA KAYBEDERİZ!**\n",
        "- **Hedef:** <%20\n",
        "- **Neden önemli:** Bu metrik direk para kaybı riski!\n",
        "\n",
        "### 🎯 Model Durumları\n",
        "\n",
        "**✅ İYİ Durum (Hedef):**\n",
        "```\n",
        "🔴 1.5 ALTI: 75.0% ✅\n",
        "🟢 1.5 ÜSTÜ: 80.0% ✅\n",
        "💰 Para kaybı: 15.0% ✅\n",
        "```\n",
        "→ Model **dengelenmiş ve güvenli**\n",
        "\n",
        "**⚠️ ORTA Durum (Gelişiyor):**\n",
        "```\n",
        "🔴 1.5 ALTI: 54.3% ⚠️\n",
        "🟢 1.5 ÜSTÜ: 42.9% ⚠️\n",
        "💰 Para kaybı: 45.7% ⚠️\n",
        "```\n",
        "→ Model **öğreniyor ama henüz hedefte değil**\n",
        "\n",
        "**❌ KÖTÜ Durum (Kilitleniyor):**\n",
        "```\n",
        "🔴 1.5 ALTI: 0.0% ❌\n",
        "🟢 1.5 ÜSTÜ: 100.0% ❌\n",
        "💰 Para kaybı: 100.0% ❌\n",
        "```\n",
        "→ Model **sadece \"1.5 üstü\" tahmin ediyor** - Lazy learning!\n",
        "\n",
        "---\n",
        "\n",
        "## 🚀 Sonraki Adımlar\n",
        "\n",
        "1. İndirilen dosyaları lokal projenize kopyalayın:\n",
        "   - `jetx_progressive_final.h5` → `models/jetx_model.h5`\n",
        "   - `scaler_progressive.pkl` → `models/scaler.pkl`\n",
        "\n",
        "2. Streamlit uygulamasını yeniden başlatın:\n",
        "   ```bash\n",
        "   streamlit run app.py\n",
        "   ```\n",
        "\n",
        "3. Artık model 1.5 altı değerleri tahmin edebilecek!\n",
        "\n",
        "---\n",
        "\n",
        "## ⚠️ Önemli Notlar\n",
        "\n",
        "- 🚨 Bu model %100 doğru değildir\n",
        "- 💰 Yine de para kaybedebilirsiniz\n",
        "- 🎯 1.5x kritik eşiktir\n",
        "- 🛡️ Rolling mod en güvenlidir (%80+ güven)\n",
        "- ⚡ Aggressive mod çok risklidir\n",
        "\n",
        "**Sorumlu oynayın!** 🎲"
      ],
      "metadata": {
        "id": "info-section"
      }
    }
  ]
}