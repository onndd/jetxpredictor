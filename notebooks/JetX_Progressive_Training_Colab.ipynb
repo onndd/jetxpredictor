{
  "nbformat": 4,
  "nbformat_minor": 0,
  "metadata": {
    "colab": {
      "provenance": [],
      "gpuType": "T4"
    },
    "kernelspec": {
      "name": "python3",
      "display_name": "Python 3"
    },
    "language_info": {
      "name": "python"
    },
    "accelerator": "GPU"
  },
  "cells": [
    {
      "cell_type": "markdown",
      "metadata": {
        "id": "header"
      },
      "source": [
        "# 🎯 JetX Progressive Training - 3 Aşamalı Model Eğitimi\n",
        "\n",
        "**Bu notebook Progressive Training stratejisi ile JetX modelini eğitir.**\n",
        "\n",
        "## 📊 Sorun:\n",
        "Mevcut model **1.5 altı değerleri tahmin edemiyor** - Hep 1.5 üstü tahmin ediyor!\n",
        "\n",
        "## 🎯 Çözüm: 3 Aşamalı Progressive Training\n",
        "\n",
        "### AŞAMA 1: Regression-Only (200 epoch) ⏱️ ~45 dakika\n",
        "- Model önce **değer tahmin etmeyi** öğrenir\n",
        "- Learning Rate: 0.0003 (yüksek - hızlı öğrenme)\n",
        "- Batch Size: 16\n",
        "- Loss Weight: Regression 100%\n",
        "\n",
        "### AŞAMA 2: Threshold Fine-Tuning (150 epoch) ⏱️ ~40 dakika\n",
        "- **1.5 altı/üstü ayrımını** keskinleştirir\n",
        "- Learning Rate: 0.0001\n",
        "- Batch Size: 8\n",
        "- Class Weight: **25x** (1.5 altı için)\n",
        "- Loss Weight: Regression 40%, Threshold 60%\n",
        "\n",
        "### AŞAMA 3: Full Model Fine-Tuning (150 epoch) ⏱️ ~60 dakika\n",
        "- **Tüm output'ları** birlikte optimize eder\n",
        "- Learning Rate: 0.00005\n",
        "- Batch Size: 4\n",
        "- Class Weight: **30x** (1.5 altı için)\n",
        "- Loss Weight: Regression 50%, Classification 10%, Threshold 40%\n",
        "\n",
        "## 🎯 Hedefler:\n",
        "- 🔴 **1.5 Altı Doğruluk**: %75-80%+\n",
        "- 🟢 **1.5 Üstü Doğruluk**: %80-85%+\n",
        "- 💰 **Para Kaybı Riski**: %20 altı\n",
        "- 📊 **MAE**: < 2.0\n",
        "\n",
        "---"
      ]
    },
    {
      "cell_type": "markdown",
      "metadata": {
        "id": "setup_header"
      },
      "source": [
        "## 📦 Adım 1: Hazırlık (2-3 dakika)\n",
        "\n",
        "Aşağıdaki butona tıklayın. Kütüphaneler yüklenecek ve proje hazırlanacak."
      ]
    },
    {
      "cell_type": "code",
      "metadata": {
        "id": "setup_cell",
        "cellView": "form"
      },
      "source": [
        "#@title ▶️ Hazırlık - Buraya tıklayın { display-mode: \"form\" }\n",
        "\n",
        "print(\"📦 Kütüphaneler yükleniyor...\")\n",
        "!pip install -q tensorflow scikit-learn pandas numpy scipy joblib matplotlib seaborn tqdm\n",
        "\n",
        "print(\"\\n📥 Proje GitHub'dan indiriliyor...\")\n",
        "import os\n",
        "if os.path.exists('jetxpredictor'):\n",
        "    !rm -rf jetxpredictor\n",
        "!git clone https://github.com/onndd/jetxpredictor.git\n",
        "%cd jetxpredictor\n",
        "\n",
        "print(\"\\n✅ Hazırlık tamamlandı!\")\n",
        "print(\"\\n➡️ Şimdi bir sonraki hücreye geçin (aşağıdaki ▶️ butonuna tıklayın)\")"
      ],
      "execution_count": null,
      "outputs": []
    },
    {
      "cell_type": "markdown",
      "metadata": {
        "id": "training_header"
      },
      "source": [
        "## 🔥 Adım 2: Progressive Training (2.5 saat)\n",
        "\n",
        "Aşağıdaki butona tıklayın. 3 aşamalı model eğitimi başlayacak.\n",
        "\n",
        "**⚠️ ÖNEMLİ:**\n",
        "- Bu işlem 2.5 saat sürecek\n",
        "- Bilgisayarınızı kapatmayın!\n",
        "- Her 5 epoch'ta 1.5 altı/üstü doğruluk oranlarını göreceksiniz\n",
        "- 3 aşama sırayla otomatik çalışacak"
      ]
    },
    {
      "cell_type": "code",
      "metadata": {
        "id": "training_cell",
        "cellView": "form"
      },
      "source": [
        "#@title ▶️ Progressive Training Başlat - Buraya tıklayın { display-mode: \"form\" }\n",
        "\n",
        "print(\"🎯 PROGRESSIVE TRAINING Başlatılıyor...\")\n",
        "print(\"⏱️ Tahmini süre: 2.5 saat (GPU ile)\")\n",
        "print(\"📊 İlerlemeyi aşağıda görebilirsiniz\\n\")\n",
        "print(\"=\"*70)\n",
        "\n",
        "!python notebooks/jetx_PROGRESSIVE_TRAINING.py\n",
        "\n",
        "print(\"\\n\" + \"=\"*70)\n",
        "print(\"✅ Progressive Training tamamlandı!\")\n",
        "print(\"\\n➡️ Şimdi bir sonraki hücreye geçin (aşağıdaki ▶️ butonuna tıklayın)\")"
      ],
      "execution_count": null,
      "outputs": []
    },
    {
      "cell_type": "markdown",
      "metadata": {
        "id": "download_header"
      },
      "source": [
        "## 💾 Adım 3: Modeli İndir\n",
        "\n",
        "Aşağıdaki butona tıklayın. Eğitilmiş model dosyaları indirilecek."
      ]
    },
    {
      "cell_type": "code",
      "metadata": {
        "id": "download_cell",
        "cellView": "form"
      },
      "source": [
        "#@title ▶️ Dosyaları İndir - Buraya tıklayın { display-mode: \"form\" }\n",
        "\n",
        "from google.colab import files\n",
        "import os\n",
        "\n",
        "print(\"💾 Dosyalar indiriliyor...\\n\")\n",
        "\n",
        "model_files = [\n",
        "    'jetx_progressive_final.h5',\n",
        "    'scaler_progressive.pkl',\n",
        "    'progressive_model_info.json'\n",
        "]\n",
        "\n",
        "for file in model_files:\n",
        "    if os.path.exists(file):\n",
        "        print(f\"📥 {file} indiriliyor...\")\n",
        "        files.download(file)\n",
        "    else:\n",
        "        print(f\"⚠️ {file} bulunamadı!\")\n",
        "\n",
        "print(\"\\n✅ Tüm dosyalar bilgisayarınıza indirildi!\")\n",
        "print(\"\\n📁 İndirilen dosyalar:\")\n",
        "print(\"   • jetx_progressive_final.h5 (Ana model)\")\n",
        "print(\"   • scaler_progressive.pkl (Normalizer)\")\n",
        "print(\"   • progressive_model_info.json (Model bilgileri)\")\n",
        "print(\"\\n➡️ Bu dosyaları lokal projenizin 'models/' klasörüne kopyalayın\")\n",
        "print(\"\\n🎉 Tamamlandı! Artık yeni modeli kullanabilirsiniz.\")"
      ],
      "execution_count": null,
      "outputs": []
    },
    {
      "cell_type": "markdown",
      "metadata": {
        "id": "details"
      },
      "source": [
        "---\n",
        "\n",
        "## 📊 Progressive Training Detayları\n",
        "\n",
        "### 🎯 Neden Progressive Training?\n",
        "\n",
        "**Sorun:** Mevcut model 1.5 altı değerleri tahmin edemiyor!\n",
        "- Eğitim sırasında hiç 1.5 altı tahmin yok\n",
        "- Model \"kolaya kaçıyor\" (lazy learning)\n",
        "- Learning rate çok düşük (0.00005)\n",
        "- Class weight yetersiz (7x)\n",
        "\n",
        "**Çözüm:** 3 Aşamalı Progressive Training\n",
        "\n",
        "### 📋 Aşama Detayları:\n",
        "\n",
        "#### AŞAMA 1: Regression-Only (200 epoch)\n",
        "```\n",
        "✅ Learning Rate: 0.0003 (6x artış!)\n",
        "✅ Batch Size: 16 (daha hızlı)\n",
        "✅ Model: 8-10M parametre (basitleştirilmiş)\n",
        "✅ Loss: Sadece regression (değer öğrenme)\n",
        "```\n",
        "**Amaç:** Model önce sayısal değer tahmin etmeyi öğrenir\n",
        "\n",
        "#### AŞAMA 2: Threshold Fine-Tuning (150 epoch)\n",
        "```\n",
        "✅ Learning Rate: 0.0001\n",
        "✅ Batch Size: 8\n",
        "✅ Class Weight: 25x (1.5 altı için)\n",
        "✅ Loss Weight: Regression 40%, Threshold 60%\n",
        "✅ Ultra Focal Loss (gamma=4.0)\n",
        "```\n",
        "**Amaç:** 1.5 altı/üstü ayrımını keskinleştir\n",
        "\n",
        "#### AŞAMA 3: Full Model Fine-Tuning (150 epoch)\n",
        "```\n",
        "✅ Learning Rate: 0.00005 (çok hassas)\n",
        "✅ Batch Size: 4\n",
        "✅ Class Weight: 30x (1.5 altı için)\n",
        "✅ Loss Weight: Reg 50%, Cls 10%, Thr 40%\n",
        "```\n",
        "**Amaç:** Tüm output'ları birlikte optimize et\n",
        "\n",
        "### 🎯 Beklenen Sonuçlar:\n",
        "\n",
        "| Metrik | Hedef | Mevcut Model |\n",
        "|--------|-------|-------------|\n",
        "| 1.5 Altı Doğruluk | %75-80%+ | %0-3% ❌ |\n",
        "| 1.5 Üstü Doğruluk | %80-85%+ | %95%+ ✅ |\n",
        "| Para Kaybı Riski | < %20 | %96-100% ❌ |\n",
        "| MAE | < 2.0 | - |\n",
        "\n",
        "### 📁 Kullanım:\n",
        "\n",
        "1. İndirilen dosyaları lokal projenize kopyalayın:\n",
        "   ```bash\n",
        "   # macOS/Linux\n",
        "   cp jetx_progressive_final.h5 ~/Desktop/jetxpredictor/models/jetx_model.h5\n",
        "   cp scaler_progressive.pkl ~/Desktop/jetxpredictor/models/scaler.pkl\n",
        "   ```\n",
        "\n",
        "2. Streamlit uygulamasını yeniden başlatın:\n",
        "   ```bash\n",
        "   streamlit run app.py\n",
        "   ```\n",
        "\n",
        "3. Artık model 1.5 altı değerleri tahmin edebilecek!\n",
        "\n",
        "---\n",
        "\n",
        "## ⚠️ Önemli Notlar:\n",
        "\n",
        "- 🚨 Bu model %100 doğru değildir\n",
        "- 💰 Yine de para kaybedebilirsiniz\n",
        "- 🎯 1.5x kritik eşiktir\n",
        "- 🛡️ Rolling mod en güvenlidir (%80+ güven)\n",
        "- ⚡ Aggressive mod çok risklidir\n",
        "\n",
        "**Sorumlu oynayın!** 🎲"
      ]
    }
  ]
}