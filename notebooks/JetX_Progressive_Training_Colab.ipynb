{
  "nbformat": 4,
  "nbformat_minor": 0,
  "metadata": {
    "colab": {
      "provenance": [],
      "gpuType": "T4"
    },
    "kernelspec": {
      "name": "python3",
      "display_name": "Python 3"
    },
    "language_info": {
      "name": "python"
    },
    "accelerator": "GPU"
  },
  "cells": [
    {
      "cell_type": "markdown",
      "source": [
        "# 🚀 JetX Model Eğitimi - Google Colab\n",
        "\n",
        "**Bu notebook ile JetX tahmin modellerini Google Colab'da eğitebilirsiniz.**\n",
        "\n",
        "## 🎯 İki Model Seçeneği:\n",
        "\n",
        "### 1️⃣ Neural Network (Deep Learning) ~2-3 saat\n",
        "- ✅ **En Yüksek Performans**: %75-85 doğruluk hedefi\n",
        "- ✅ **1000 Pencere**: Çok derin analiz (5 girdi katmanı)\n",
        "- ✅ **3 Aşamalı Progressive Training**\n",
        "- ⚠️ **Uzun Eğitim**: 2-3 saat gerektirir\n",
        "- 📊 **Model Boyutu**: ~12-15M parametre\n",
        "\n",
        "### 2️⃣ XGBoost (Gradient Boosting) ~30-60 dakika\n",
        "- ⚡ **Çok Hızlı**: 3-4x daha hızlı eğitim\n",
        "- ✅ **Feature Engineering**: Zengin özellik analizi\n",
        "- ✅ **Feature Importance**: Hangi özelliklerin önemli olduğunu gösterir\n",
        "- ✅ **Daha Az Bellek**: Hafif ve verimli\n",
        "- 📊 **Performans**: %70-75 doğruluk hedefi\n",
        "\n",
        "## 🎲 Hangisini Seçmeli?\n",
        "\n",
        "- **En yüksek performans istiyorsanız**: Neural Network\n",
        "- **Hızlı bir model istiyorsanız**: XGBoost\n",
        "- **İkisini de deneyin**: Karşılaştırın ve en iyi sonucu veren modeli kullanın!\n",
        "\n",
        "---"
      ],
      "metadata": {
        "id": "header"
      }
    },
    {
      "cell_type": "markdown",
      "source": [
        "## 📦 Adım 1: Hazırlık (2-3 dakika)\n",
        "\n",
        "**Önce bu hücreyi çalıştırın** - Her iki model için de gerekli"
      ],
      "metadata": {
        "id": "setup-header"
      }
    },
    {
      "cell_type": "code",
      "source": [
        "#@title ▶️ Hazırlık - Buraya tıklayın { display-mode: \"form\" }\n",
        "\n",
        "print(\"📦 Kütüphaneler yükleniyor...\")\n",
        "!pip install -q tensorflow scikit-learn xgboost pandas numpy scipy joblib matplotlib seaborn tqdm\n",
        "\n",
        "print(\"\\n📥 Proje GitHub'dan indiriliyor...\")\n",
        "import os\n",
        "if os.path.exists('jetxpredictor'):\n",
        "    !rm -rf jetxpredictor\n",
        "!git clone https://github.com/onndd/jetxpredictor.git\n",
        "%cd jetxpredictor\n",
        "\n",
        "print(\"\\n✅ Hazırlık tamamlandı!\")\n",
        "print(\"\\n➡️ Şimdi aşağıdaki seçeneklerden BİRİNİ seçin:\")\n",
        "print(\"   • Neural Network için Adım 2A\")\n",
        "print(\"   • XGBoost için Adım 2B\")"
      ],
      "metadata": {
        "id": "setup-cell",
        "cellView": "form"
      },
      "execution_count": null,
      "outputs": []
    },
    {
      "cell_type": "markdown",
      "source": [
        "---\n",
        "\n",
        "# 🧠 SEÇENEK A: Neural Network Eğitimi\n",
        "\n",
        "## 🎯 3 Aşamalı Progressive Training (1000 PENCERE)\n",
        "\n",
        "### AŞAMA 1: Foundation Training (100 epoch)\n",
        "- Model hem değer tahmin etmeyi HEM DE 1.5 eşiğini birlikte öğrenir\n",
        "- **1000 Pencere**: X_1000 + nb_xl bloğu ile derin analiz\n",
        "- Class Weight: 3.0x (lazy learning'i önler)\n",
        "- Patience: 25\n",
        "\n",
        "### AŞAMA 2: Threshold Fine-Tuning (80 epoch)\n",
        "- 1.5 altı/üstü ayrımını keskinleştirir\n",
        "- Class Weight: 5.0x\n",
        "- Patience: 20\n",
        "\n",
        "### AŞAMA 3: Full Model Fine-Tuning (80 epoch)\n",
        "- Tüm output'ları birlikte optimize eder\n",
        "- Class Weight: 7.0x\n",
        "- Patience: 15\n",
        "\n",
        "**⏱️ Toplam Süre**: ~2-3 saat\n",
        "\n",
        "**🎯 Hedefler**: 1.5 Altı %75-85+, 1.5 Üstü %75-85+, Para Kaybı <%20"
      ],
      "metadata": {
        "id": "nn-header"
      }
    },
    {
      "cell_type": "code",
      "source": [
        "#@title ▶️ Adım 2A: Neural Network Eğitimi BAŞLAT { display-mode: \"form\" }\n",
        "\n",
        "print(\"🧠 NEURAL NETWORK - Progressive Training Başlatılıyor...\")\n",
        "print(\"⏱️ Tahmini süre: 2-3 saat (GPU ile)\")\n",
        "print(\"📊 Model: 5 girdi (features + seq_50/200/500/1000)\")\n",
        "print(\"=\"*70)\n",
        "\n",
        "!python notebooks/jetx_PROGRESSIVE_TRAINING.py\n",
        "\n",
        "print(\"\\n\" + \"=\"*70)\n",
        "print(\"✅ Neural Network eğitimi tamamlandı!\")\n",
        "print(\"\\n➡️ Şimdi Adım 3A'ya geçin (Neural Network modelini indirin)\")"
      ],
      "metadata": {
        "id": "nn-training-cell",
        "cellView": "form"
      },
      "execution_count": null,
      "outputs": []
    },
    {
      "cell_type": "code",
      "source": [
        "#@title ▶️ Adım 3A: Neural Network Modelini İndir { display-mode: \"form\" }\n",
        "\n",
        "from google.colab import files\n",
        "import os\n",
        "\n",
        "print(\"💾 Neural Network dosyaları indiriliyor...\\n\")\n",
        "\n",
        "model_files = [\n",
        "    'jetx_progressive_final.h5',\n",
        "    'scaler_progressive.pkl',\n",
        "    'progressive_model_info.json'\n",
        "]\n",
        "\n",
        "for file in model_files:\n",
        "    if os.path.exists(file):\n",
        "        print(f\"📥 {file} indiriliyor...\")\n",
        "        files.download(file)\n",
        "        print(f\"✅ {file} indirildi\")\n",
        "    else:\n",
        "        print(f\"⚠️ {file} bulunamadı!\")\n",
        "\n",
        "print(\"\\n✅ Tüm Neural Network dosyaları indirildi!\")\n",
        "print(\"\\n📁 Bu dosyaları lokal projenizin 'models/' klasörüne kopyalayın:\")\n",
        "print(\"   1. jetx_progressive_final.h5 → models/jetx_model.h5\")\n",
        "print(\"   2. scaler_progressive.pkl → models/scaler.pkl\")\n",
        "print(\"\\n🎉 Kullanıma hazır!\")"
      ],
      "metadata": {
        "id": "nn-download-cell",
        "cellView": "form"
      },
      "execution_count": null,
      "outputs": []
    },
    {
      "cell_type": "markdown",
      "source": [
        "---\n",
        "\n",
        "# ⚡ SEÇENEK B: XGBoost Eğitimi\n",
        "\n",
        "## 🤖 Hızlı ve Verimli Model\n",
        "\n",
        "### XGBRegressor (Değer Tahmini)\n",
        "- n_estimators: 500\n",
        "- max_depth: 8\n",
        "- learning_rate: 0.05\n",
        "\n",
        "### XGBClassifier (1.5 Eşik Tahmini)\n",
        "- n_estimators: 500\n",
        "- max_depth: 7\n",
        "- scale_pos_weight: Otomatik dengeleme\n",
        "\n",
        "**⏱️ Toplam Süre**: ~30-60 dakika\n",
        "\n",
        "**🎯 Hedefler**: 1.5 Altı %70-75+, 1.5 Üstü %70-75+\n",
        "\n",
        "**✨ Bonus**: Feature importance analizi ile hangi özelliklerin önemli olduğunu görebilirsiniz!"
      ],
      "metadata": {
        "id": "xgb-header"
      }
    },
    {
      "cell_type": "code",
      "source": [
        "#@title ▶️ Adım 2B: XGBoost Eğitimi BAŞLAT { display-mode: \"form\" }\n",
        "\n",
        "print(\"⚡ XGBOOST - Hızlı Model Eğitimi Başlatılıyor...\")\n",
        "print(\"⏱️ Tahmini süre: 30-60 dakika\")\n",
        "print(\"📊 Model: Feature Engineering bazlı\")\n",
        "print(\"=\"*70)\n",
        "\n",
        "!python notebooks/jetx_XGBOOST_TRAINING.py\n",
        "\n",
        "print(\"\\n\" + \"=\"*70)\n",
        "print(\"✅ XGBoost eğitimi tamamlandı!\")\n",
        "print(\"\\n➡️ Şimdi Adım 3B'ye geçin (XGBoost modelini indirin)\")"
      ],
      "metadata": {
        "id": "xgb-training-cell",
        "cellView": "form"
      },
      "execution_count": null,
      "outputs": []
    },
    {
      "cell_type": "code",
      "source": [
        "#@title ▶️ Adım 3B: XGBoost Modelini İndir { display-mode: \"form\" }\n",
        "\n",
        "from google.colab import files\n",
        "import os\n",
        "\n",
        "print(\"💾 XGBoost dosyaları indiriliyor...\\n\")\n",
        "\n",
        "# models klasörüne gir\n",
        "os.chdir('models')\n",
        "\n",
        "model_files = [\n",
        "    'xgboost_regressor.json',\n",
        "    'xgboost_classifier.json',\n",
        "    'xgboost_scaler.pkl',\n",
        "    'xgboost_model_info.json'\n",
        "]\n",
        "\n",
        "for file in model_files:\n",
        "    if os.path.exists(file):\n",
        "        print(f\"📥 {file} indiriliyor...\")\n",
        "        files.download(file)\n",
        "        print(f\"✅ {file} indirildi\")\n",
        "    else:\n",
        "        print(f\"⚠️ {file} bulunamadı!\")\n",
        "\n",
        "print(\"\\n✅ Tüm XGBoost dosyaları indirildi!\")\n",
        "print(\"\\n📁 Bu dosyaları lokal projenizin 'models/' klasörüne kopyalayın\")\n",
        "print(\"\\n🔧 Kullanım: Predictor'ı model_type='xgboost' ile başlatın\")\n",
        "print(\"   predictor = JetXPredictor(model_type='xgboost')\")\n",
        "print(\"\\n🎉 Kullanıma hazır!\")"
      ],
      "metadata": {
        "id": "xgb-download-cell",
        "cellView": "form"
      },
      "execution_count": null,
      "outputs": []
    },
    {
      "cell_type": "markdown",
      "source": [
        "---\n",
        "\n",
        "## 📊 Metrik Açıklamaları\n",
        "\n",
        "Eğitim sırasında göreceğiniz metriklerin anlamları:\n",
        "\n",
        "### 🔴 1.5 ALTI DOĞRULUĞU\n",
        "- Model, **gerçekten 1.5 altında olan** değerleri ne kadar doğru tahmin ediyor?\n",
        "- **Hedef**: Neural Network %75-85+, XGBoost %70-75+\n",
        "- **Neden önemli**: 1.5 altını bulamazsak fırsat kaçırırız\n",
        "\n",
        "### 🟢 1.5 ÜSTÜ DOĞRULUĞU\n",
        "- Model, **gerçekten 1.5 üstünde olan** değerleri ne kadar doğru tahmin ediyor?\n",
        "- **Hedef**: Neural Network %75-85+, XGBoost %70-75+\n",
        "- **Neden önemli**: Doğru tahmin edersek gereksiz bahisten kaçınırız\n",
        "\n",
        "### 💰 PARA KAYBI RİSKİ\n",
        "- Model **1.5 altı olduğunda** yanlışlıkla \"1.5 üstü\" deme oranı\n",
        "- **Hedef**: <%20-25\n",
        "- **Neden önemli**: Bu durumda bahis yapar ve PARA KAYBEDERİZ!\n",
        "\n",
        "---\n",
        "\n",
        "## ⚠️ Önemli Notlar\n",
        "\n",
        "- 🚨 Bu modeller %100 doğru değildir\n",
        "- 💰 Yine de para kaybedebilirsiniz\n",
        "- 🎯 1.5x kritik eşiktir\n",
        "- 🛡️ Rolling mod en güvenlidir (%80+ güven)\n",
        "- ⚡ Aggressive mod çok risklidir\n",
        "- 🔬 **İki modeli de deneyin** ve karşılaştırın!\n",
        "\n",
        "**Sorumlu oynayın!** 🎲"
      ],
      "metadata": {
        "id": "metrics-explanation"
      }
    }
  ]
}
