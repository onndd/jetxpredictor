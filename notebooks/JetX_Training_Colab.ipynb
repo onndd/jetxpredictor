{
  "nbformat": 4,
  "nbformat_minor": 0,
  "metadata": {
    "colab": {
      "provenance": [],
      "gpuType": "T4"
    },
    "kernelspec": {
      "name": "python3",
      "display_name": "Python 3"
    },
    "language_info": {
      "name": "python"
    },
    "accelerator": "GPU"
  },
  "cells": [
    {
      "cell_type": "markdown",
      "source": [
        "# 🚀 JetX Model Eğitimi - Google Colab\n",
        "\n",
        "**Bu tek notebook ile tüm JetX tahmin modellerini Google Colab'da eğitebilirsiniz.**\n",
        "\n",
        "---\n",
        "\n",
        "## 🎯 Üç Model Seçeneği:\n",
        "\n",
        "### 1️⃣ Neural Network (Deep Learning) - Progressive Training\n",
        "- ⏱️ **Süre**: ~2-3 saat (GPU ile)\n",
        "- ✅ **En Yüksek Performans**: %75-85 doğruluk hedefi\n",
        "- ✅ **Transformer**: 4-layer attention mechanism\n",
        "- ✅ **1000 Pencere**: Uzun vadeli pattern analizi\n",
        "- ✅ **3 Aşamalı Progressive Training**\n",
        "- ✅ **Percentage-Aware Regression Loss**: Tüm değer aralıklarında dengeli öğrenme\n",
        "- ✅ **Çift Sanal Kasa**: 1.5x eşik + %70 çıkış stratejisi\n",
        "- ✅ **Adaptive Weight Scheduler**: Yumuşak geçişlerle dengeli eğitim\n",
        "\n",
        "### 2️⃣ CatBoost (Standard) - Hızlı Eğitim\n",
        "- ⏱️ **Süre**: ~30-60 dakika\n",
        "- ⚡ **Çok Hızlı**: 3-4x daha hızlı eğitim\n",
        "- ✅ **Balanced Class Weights**: Otomatik denge\n",
        "- ✅ **Feature Importance**: Hangi özelliklerin önemli olduğunu gösterir\n",
        "- ✅ **1500 İterasyon**: Tamamı\n",
        "- ✅ **Çift Sanal Kasa**: 1.5x eşik + %70 çıkış\n",
        "\n",
        "### 3️⃣ CatBoost ULTRA - Maksimum Performans\n",
        "- ⏱️ **Süre**: ~4-6 saat (GPU ile)\n",
        "- 🔥 **10 Model Ensemble**: Farklı parametrelerle\n",
        "- ✅ **10,000 Iterations**: 6.5x artış!\n",
        "- ✅ **GPU Desteği**: CatBoost GPU acceleration\n",
        "- ✅ **Derin Ağaçlar**: Depth 14/12\n",
        "- ✅ **Bootstrap Fix**: Bernoulli + subsample 0.8\n",
        "- ✅ **3 Sanal Kasa**: Confidence-based dahil (%70 çıkış)\n",
        "- ✅ **Google Drive Yedekleme**: Otomatik model yedekleme\n",
        "- ✅ **MAE < 1.2, Accuracy %85-90 hedefi**\n",
        "\n",
        "---\n",
        "\n",
        "## 📌 Kullanım:\n",
        "\n",
        "1. **Runtime → Change runtime type → GPU (T4 önerilir)**\n",
        "2. **Adım 1'i çalıştırın** (Hazırlık - tüm seçenekler için gerekli)\n",
        "3. **İstediğiniz model seçeneğini çalıştırın** (2A, 2B veya 2C)\n",
        "4. **Model indirme adımını çalıştırın**\n",
        "5. ZIP dosyasını lokal projenize kopyalayın\n",
        "\n",
        "---\n",
        "\n",
        "## 🆕 Son Güncellemeler (v3.1):\n",
        "\n",
        "### Regression İyileştirmeleri:\n",
        "- **Percentage-Aware Loss**: Gerçek değerleri (2.7x, 3.09x, 10x, 15.77x) daha doğru tahmin eder\n",
        "- **Regression Ağırlığı Artırıldı**: %65-55-50 (classification'dan daha fazla öncelik)\n",
        "- **Yüzde Hataya Dayalı**: Mutlak hata yerine yüzde hata kullanılıyor\n",
        "\n",
        "### Weight Scheduler İyileştirmeleri:\n",
        "- **Yumuşak Geçişler**: Agresif çarpanlar (×2.5) → Yumuşak artışlar (+0.25)\n",
        "- **Kademeli Öğrenme**: Her epoch küçük adımlarla öğrenme\n",
        "- **Overfitting Önleme**: Dengeli weight ayarlamaları\n",
        "\n",
        "### Sanal Kasa Güncellemeleri:\n",
        "- **Kasa 2 İyileştirildi**: %80 → %70 çıkış (daha güvenli)\n",
        "- **Her Epoch Rapor**: Her iki kasa da ayrı ayrı takip ediliyor"
      ],
      "metadata": {
        "id": "header"
      }
    },
    {
      "cell_type": "markdown",
      "source": [
        "---\n",
        "\n",
        "# 📦 Adım 1: Hazırlık (Tüm Seçenekler İçin Gerekli)"
      ],
      "metadata": {
        "id": "step1_header"
      }
    },
    {
      "cell_type": "code",
      "source": [
        "import subprocess\n",
        "import sys\n",
        "import os\n",
        "\n",
        "print(\"=\"*80)\n",
        "print(\"📦 HAZIRLIK - Kütüphaneler ve Proje Yükleniyor\")\n",
        "print(\"=\"*80)\n",
        "\n",
        "# Kütüphaneleri yükle\n",
        "print(\"\\n📦 Kütüphaneler yükleniyor...\")\n",
        "!pip install -q tensorflow scikit-learn catboost pandas numpy scipy joblib matplotlib seaborn tqdm PyWavelets nolds\n",
        "\n",
        "# Proje yükle\n",
        "if os.path.exists('jetxpredictor'):\n",
        "    !rm -rf jetxpredictor\n",
        "\n",
        "print(\"\\n📥 Proje GitHub'dan indiriliyor...\")\n",
        "!git clone https://github.com/onndd/jetxpredictor.git\n",
        "%cd jetxpredictor\n",
        "\n",
        "print(\"\\n✅ Hazırlık tamamlandı!\")\n",
        "print(\"\\n➡️ Şimdi aşağıdaki seçeneklerden BİRİNİ seçin:\")\n",
        "print(\"   • Neural Network için Adım 2A\")\n",
        "print(\"   • CatBoost Standard için Adım 2B\")\n",
        "print(\"   • CatBoost ULTRA için Adım 2C\")"
      ],
      "metadata": {
        "id": "setup"
      },
      "execution_count": null,
      "outputs": []
    },
    {
      "cell_type": "markdown",
      "source": [
        "---\n",
        "\n",
        "# 🧠 SEÇENEK A: Neural Network - Progressive Training\n",
        "\n",
        "**⏱️ Tahmini Süre: 2-3 saat (GPU ile)**\n",
        "\n",
        "**🆕 Yeni Özellikler:**\n",
        "- Percentage-aware regression loss ile tüm değerlerde dengeli tahmin\n",
        "- Adaptive weight scheduler yumuşak geçişlerle (0.05-0.25 arası)\n",
        "- Regression ağırlığı artırıldı (%65-55-50)\n",
        "- Sanal Kasa 2 ile %70 çıkış stratejisi"
      ],
      "metadata": {
        "id": "option_a_header"
      }
    },
    {
      "cell_type": "code",
      "source": [
        "print(\"🧠 NEURAL NETWORK - Progressive Training Başlatılıyor...\")\n",
        "print(\"⏱️ Tahmini süre: 2-3 saat (GPU ile)\")\n",
        "print(\"🆕 Percentage-aware regression loss aktif\")\n",
        "print(\"=\"*70)\n",
        "\n",
        "!python notebooks/jetx_PROGRESSIVE_TRAINING.py\n",
        "\n",
        "print(\"\\n\" + \"=\"*70)\n",
        "print(\"✅ Neural Network eğitimi tamamlandı!\")\n",
        "print(\"\\n➡️ Şimdi 'Adım 3A: Model İndirme' hücresini çalıştırın\")"
      ],
      "metadata": {
        "id": "train_nn"
      },
      "execution_count": null,
      "outputs": []
    },
    {
      "cell_type": "markdown",
      "source": [
        "### Adım 3A: Neural Network Modelini İndir"
      ],
      "metadata": {
        "id": "download_nn_header"
      }
    },
    {
      "cell_type": "code",
      "source": [
        "import os\n",
        "\n",
        "print(\"💾 Neural Network dosyaları indiriliyor...\\n\")\n",
        "print(\"=\"*80)\n",
        "\n",
        "zip_file = 'jetx_models_progressive_v2.0.zip'\n",
        "\n",
        "if os.path.exists(zip_file):\n",
        "    print(f\"✅ {zip_file} bulundu!\\n\")\n",
        "    \n",
        "    try:\n",
        "        from google.colab import files\n",
        "        print(f\"📥 Otomatik indirme başlatılıyor...\")\n",
        "        files.download(zip_file)\n",
        "        print(f\"✅ {zip_file} başarıyla indirildi!\\n\")\n",
        "    except Exception as e:\n",
        "        print(f\"⚠️ Otomatik indirme başarısız: {e}\\n\")\n",
        "        print(\"📁 MANUEL İNDİRME: Sol panelden Files → jetxpredictor → \" + zip_file + \" → Sağ tık → Download\")\n",
        "    \n",
        "    print(\"\\n📦 ZIP İÇERİĞİ:\")\n",
        "    print(\"   • jetx_progressive_transformer.h5 (Model + Percentage Loss)\")\n",
        "    print(\"   • scaler_progressive_transformer.pkl (Scaler)\")\n",
        "    print(\"   • model_info.json (Model bilgileri)\")\n",
        "    print(\"\\n🆕 YENİ ÖZELLİKLER:\")\n",
        "    print(\"   ✅ Regression performansı iyileştirildi\")\n",
        "    print(\"   ✅ Tüm değerlerde (1.23x, 2.7x, 10x, 15.77x) dengeli tahmin\")\n",
        "    print(\"   ✅ Sanal Kasa 2 ile %70 çıkış stratejisi\")\n",
        "else:\n",
        "    print(f\"⚠️ {zip_file} bulunamadı!\")\n",
        "    print(\"📁 MANUEL İNDİRME: Sol panelden models/ klasöründeki dosyaları manuel indirin\")\n",
        "\n",
        "print(\"\\n🎉 Kullanıma hazır!\")"
      ],
      "metadata": {
        "id": "download_nn"
      },
      "execution_count": null,
      "outputs": []
    },
    {
      "cell_type": "markdown",
      "source": [
        "---\n",
        "\n",
        "# ⚡ SEÇENEK B: CatBoost Standard - Hızlı Eğitim\n",
        "\n",
        "**⏱️ Tahmini Süre: 30-60 dakika**\n",
        "\n",
        "**🆕 Yeni Özellikler:**\n",
        "- Sanal Kasa 2 ile %70 çıkış stratejisi eklendi"
      ],
      "metadata": {
        "id": "option_b_header"
      }
    },
    {
      "cell_type": "code",
      "source": [
        "print(\"⚡ CATBOOST STANDARD - Hızlı Model Eğitimi Başlatılıyor...\")\n",
        "print(\"⏱️ Tahmini süre: 30-60 dakika\")\n",
        "print(\"=\"*70)\n",
        "\n",
        "!python notebooks/jetx_CATBOOST_TRAINING.py\n",
        "\n",
        "print(\"\\n\" + \"=\"*70)\n",
        "print(\"✅ CatBoost Standard eğitimi tamamlandı!\")\n",
        "print(\"\\n➡️ Şimdi 'Adım 3B: Model İndirme' hücresini çalıştırın\")"
      ],
      "metadata": {
        "id": "train_catboost"
      },
      "execution_count": null,
      "outputs": []
    },
    {
      "cell_type": "markdown",
      "source": [
        "### Adım 3B: CatBoost Standard Modelini İndir"
      ],
      "metadata": {
        "id": "download_catboost_header"
      }
    },
    {
      "cell_type": "code",
      "source": [
        "import os\n",
        "\n",
        "print(\"💾 CatBoost Standard dosyaları indiriliyor...\\n\")\n",
        "print(\"=\"*80)\n",
        "\n",
        "zip_file = 'jetx_models_catboost_v2.0.zip'\n",
        "\n",
        "if os.path.exists(zip_file):\n",
        "    print(f\"✅ {zip_file} bulundu!\\n\")\n",
        "    \n",
        "    try:\n",
        "        from google.colab import files\n",
        "        print(f\"📥 Otomatik indirme başlatılıyor...\")\n",
        "        files.download(zip_file)\n",
        "        print(f\"✅ {zip_file} başarıyla indirildi!\\n\")\n",
        "    except Exception as e:\n",
        "        print(f\"⚠️ Otomatik indirme başarısız: {e}\\n\")\n",
        "        print(\"📁 MANUEL İNDİRME: Sol panelden Files → jetxpredictor → \" + zip_file + \" → Sağ tık → Download\")\n",
        "    \n",
        "    print(\"\\n📦 ZIP İÇERİĞİ:\")\n",
        "    print(\"   • catboost_regressor.cbm (CatBoost Regressor)\")\n",
        "    print(\"   • catboost_classifier.cbm (CatBoost Classifier)\")\n",
        "    print(\"   • catboost_scaler.pkl (Scaler)\")\n",
        "    print(\"   • catboost_model_info.json (Model bilgileri)\")\n",
        "else:\n",
        "    print(f\"⚠️ {zip_file} bulunamadı!\")\n",
        "    print(\"📁 MANUEL İNDİRME: Sol panelden models/ klasöründeki dosyaları manuel indirin\")\n",
        "\n",
        "print(\"\\n🎉 Kullanıma hazır!\")"
      ],
      "metadata": {
        "id": "download_catboost"
      },
      "execution_count": null,
      "outputs": []
    },
    {
      "cell_type": "markdown",
      "source": [
        "---\n",
        "\n",
        "# 🔥 SEÇENEK C: CatBoost ULTRA - Maksimum Performans\n",
        "\n",
        "**⏱️ Tahmini Süre: 4-6 saat (GPU ile)**\n",
        "\n",
        "**Hedefler:**\n",
        "- MAE < 1.2\n",
        "- Accuracy %85-90+\n",
        "- ROI > %40\n",
        "\n",
        "**🆕 Yeni Özellikler:**\n",
        "- Bootstrap hatası düzeltildi (Bayesian → Bernoulli + subsample 0.8)\n",
        "- Google Drive otomatik yedekleme eklendi\n",
        "- Manuel indirme talimatları iyileştirildi\n",
        "- Adaptive weight scheduler yumuşatıldı"
      ],
      "metadata": {
        "id": "option_c_header"
      }
    },
    {
      "cell_type": "code",
      "source": [
        "print(\"🔥 CATBOOST ULTRA - Maksimum Performans Eğitimi Başlatılıyor...\")\n",
        "print(\"⏱️ Tahmini süre: 4-6 saat (GPU ile)\")\n",
        "print(\"📊 10 Model Ensemble + 10,000 Iterations + GPU\")\n",
        "print(\"🆕 Bootstrap fix + Google Drive yedekleme\")\n",
        "print(\"=\"*70)\n",
        "\n",
        "!python notebooks/jetx_CATBOOST_ULTRA_TRAINING.py\n",
        "\n",
        "print(\"\\n\" + \"=\"*70)\n",
        "print(\"✅ CatBoost ULTRA eğitimi tamamlandı!\")\n",
        "print(\"✅ Google Drive'a otomatik yedekleme yapıldı\")\n",
        "print(\"\\n➡️ Şimdi 'Adım 3C: Model İndirme' hücresini çalıştırın\")"
      ],
      "metadata": {
        "id": "train_catboost_ultra"
      },
      "execution_count": null,
      "outputs": []
    },
    {
      "cell_type": "markdown",
      "source": [
        "### Adım 3C: CatBoost ULTRA Modelini İndir"
      ],
      "metadata": {
        "id": "download_ultra_header"
      }
    },
    {
      "cell_type": "code",
      "source": [
        "import os\n",
        "\n",
        "print(\"💾 CatBoost ULTRA dosyaları indiriliyor...\\n\")\n",
        "print(\"=\"*80)\n",
        "\n",
        "zip_file = 'jetx_models_catboost_ultra_v3.0.zip'\n",
        "\n",
        "if os.path.exists(zip_file):\n",
        "    print(f\"✅ {zip_file} bulundu!\\n\")\n",
        "    \n",
        "    # Google Drive kontrolü\n",
        "    try:\n",
        "        drive_path = '/content/drive/MyDrive/JetX_Models_Backup/' + zip_file\n",
        "        if os.path.exists(drive_path):\n",
        "            print(f\"✅ Google Drive yedeklemesi mevcut: {drive_path}\")\n",
        "    except:\n",
        "        pass\n",
        "    \n",
        "    try:\n",
        "        from google.colab import files\n",
        "        print(f\"\\n📥 Otomatik indirme başlatılıyor...\")\n",
        "        files.download(zip_file)\n",
        "        print(f\"✅ {zip_file} başarıyla indirildi!\\n\")\n",
        "    except Exception as e:\n",
        "        print(f\"\\n⚠️ Otomatik indirme başarısız: {e}\\n\")\n",
        "        print(\"📁 MANUEL İNDİRME OPSİYONLARI:\")\n",
        "        print(\"\\n1️⃣ Google Drive'dan indirin:\")\n",
        "        print(\"   • MyDrive → JetX_Models_Backup → \" + zip_file)\n",
        "        print(\"\\n2️⃣ Colab Files panelinden indirin:\")\n",
        "        print(\"   • Sol panel → Files (📁) → jetxpredictor → \" + zip_file)\n",
        "        print(\"   • Sağ tık → Download\")\n",
        "    \n",
        "    print(\"\\n📦 ZIP İÇERİĞİ (10 Model Ensemble):\")\n",
        "    print(\"   • catboost_ultra_regressor_ensemble/ (10 model)\")\n",
        "    print(\"   • catboost_ultra_classifier_ensemble/ (10 model)\")\n",
        "    print(\"   • catboost_ultra_scaler.pkl\")\n",
        "    print(\"   • catboost_ultra_model_info.json\")\n",
        "    print(\"\\n🆕 YENİ ÖZELLİKLER:\")\n",
        "    print(\"   ✅ Bootstrap hatası düzeltildi (Bernoulli + subsample)\")\n",
        "    print(\"   ✅ Google Drive otomatik yedekleme\")\n",
        "    print(\"   ✅ Adaptive weight scheduler yumuşatıldı\")\n",
        "    print(\"   ✅ Sanal Kasa 2: %70 çıkış stratejisi\")\n",
        "else:\n",
        "    print(f\"⚠️ {zip_file} bulunamadı!\")\n",
        "    print(\"\\n📁 MANUEL İNDİRME:\")\n",
        "    print(\"1. Google Drive: MyDrive/JetX_Models_Backup/\")\n",
        "    print(\"2. Colab Files: Sol panel → models/ klasörü\")\n",
        "\n",
        "print(\"\\n🎉 Kullanıma hazır!\")"
      ],
      "metadata": {
        "id": "download_ultra"
      },
      "execution_count": null,
      "outputs": []
    },
    {
      "cell_type": "markdown",
      "source": [
        "---\n",
        "\n",
        "# 📋 Önemli Notlar\n",
        "\n",
        "## Modeli Kullanma:\n",
        "\n",
        "1. **ZIP dosyasını açın**\n",
        "2. **Tüm dosyaları lokal projenizin `models/` klasörüne kopyalayın**\n",
        "3. **Streamlit uygulamasını başlatın**: `python -m streamlit run app.py`\n",
        "\n",
        "## Model Karşılaştırması:\n",
        "\n",
        "| Özellik | Neural Network | CatBoost Standard | CatBoost ULTRA |\n",
        "|---------|----------------|-------------------|----------------|\n",
        "| **Süre** | 2-3 saat | 30-60 dk | 4-6 saat |\n",
        "| **Accuracy** | %75-85 | %70-75 | %85-90 |\n",
        "| **MAE** | ~1.5-2.0 | ~2.0 | ~1.0-1.2 |\n",
        "| **Model Boyutu** | ~50 MB | ~5 MB | ~50 MB |\n",
        "| **Regression** | Percentage-aware | Standard | Ensemble |\n",
        "| **Karmaşıklık** | Yüksek | Orta | Çok Yüksek |\n",
        "\n",
        "## Hangi Modeli Seçmeliyim?\n",
        "\n",
        "- **Hızlı test için**: CatBoost Standard (Seçenek B)\n",
        "- **Dengeli performans + İyileştirilmiş regression**: Neural Network (Seçenek A) ✨\n",
        "- **Maksimum performans + Google Drive yedekleme**: CatBoost ULTRA (Seçenek C) ✨\n",
        "\n",
        "## 🆕 Son Güncellemeler (v3.1):\n",
        "\n",
        "### Regression İyileştirmeleri:\n",
        "- **Percentage-Aware Loss**: Yüzde hataya dayalı loss function\n",
        "- **Dengeli Öğrenme**: Tüm değer aralıklarında (1.23x, 2.7x, 10x, 15.77x) eşit doğruluk\n",
        "- **Regression Öncelikli**: Loss ağırlıkları artırıldı (%65-55-50)\n",
        "\n",
        "### Weight Scheduler İyileştirmeleri:\n",
        "- **Yumuşak Geçişler**: Çarpma yerine toplama/çıkarma (+0.25, +0.20, +0.15, +0.10, +0.05)\n",
        "- **Kademeli Öğrenme**: Her epoch küçük adımlarla ilerler\n",
        "- **Overfitting Önleme**: Dengeli weight ayarlamaları\n",
        "\n",
        "### Sanal Kasa Güncellemeleri:\n",
        "- **Kasa 1**: 1.5x eşik sistemi (mevcut)\n",
        "- **Kasa 2**: %70 çıkış stratejisi (güvenli, %80'den düşürüldü)\n",
        "- **Her Epoch Rapor**: Her iki kasa da ayrı ayrı izleniyor\n",
        "\n",
        "### CatBoost ULTRA İyileştirmeleri:\n",
        "- **Bootstrap Fix**: Bayesian → Bernoulli + subsample 0.8\n",
        "- **Google Drive Yedekleme**: Otomatik model yedekleme\n",
        "- **Manuel İndirme**: İyileştirilmiş talimatlar\n",
        "\n",
        "## Uyarılar:\n",
        "\n",
        "- 🚨 Bu modeller %100 doğru değildir\n",
        "- 💰 Yine de para kaybedebilirsiniz\n",
        "- 🎯 1.5x kritik eşiktir\n",
        "- 🛡️ Rolling mod en güvenlidir (%80+ güven)\n",
        "- ⚡ Aggressive mod çok risklidir\n",
        "\n",
        "**Sorumlu oynayın! 🎲**"
      ],
      "metadata": {
        "id": "notes"
      }
    }
  ]
}
