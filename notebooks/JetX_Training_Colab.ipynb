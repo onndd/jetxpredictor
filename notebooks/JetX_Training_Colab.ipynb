{
  "nbformat": 4,
  "nbformat_minor": 0,
  "metadata": {
    "colab": {
      "provenance": [],
      "gpuType": "T4"
    },
    "kernelspec": {
      "name": "python3",
      "display_name": "Python 3"
    },
    "language_info": {
      "name": "python"
    },
    "accelerator": "GPU"
  },
  "cells": [
    {
      "cell_type": "markdown",
      "metadata": {
        "id": "header"
      },
      "source": [
        "# 🚀 JetX Model Eğitimi - Google Colab (Multi-Scale v4.0)\n",
        "\n",
        "**Bu notebook ile tüm JetX tahmin modellerini Multi-Scale Window Ensemble sistemi ile eğitebilirsiniz.**\n",
        "\n",
        "---\n",
        "\n",
        "## 🆕 YENİ: Multi-Scale Window Ensemble Sistemi (v4.0)\n",
        "\n",
        "### 🎯 Temel Yenilikler:\n",
        "\n",
        "**Multi-Scale Pencere Analizi:**\n",
        "- **5 Farklı Pencere Boyutu**: [500, 250, 100, 50, 20]\n",
        "- **Her pencere farklı zaman ölçeğinde pattern öğrenir**\n",
        "- **Ensemble sistemi** tüm pencereleri birleştirir\n",
        "\n",
        "**Veri Bütünlüğü Garantisi:**\n",
        "- ⛔ **Shuffle: YASAK** - Kronolojik sıra korunuyor\n",
        "- ⛔ **Data Augmentation: YASAK** - Orijinal veri bütünlüğü korunuyor\n",
        "- ✅ **Time-Series Split**: Gerçek dünya koşullarında test\n",
        "\n",
        "---\n",
        "\n",
        "## 🎯 Model Seçenekleri:\n",
        "\n",
        "### 1️⃣ Progressive NN - Multi-Scale Ensemble\n",
        "- ⏱️ **Süre**: ~10-12 saat (GPU ile)\n",
        "- 🔥 **5 Model**: Her pencere için LSTM-based model\n",
        "- ✅ **Ensemble**: Tüm modellerin ortalaması\n",
        "\n",
        "### 2️⃣ CatBoost Standard - Multi-Scale Ensemble\n",
        "- ⏱️ **Süre**: ~40-60 dakika\n",
        "- ⚡ **Çok Hızlı**: 10 model (5 pencere × 2)\n",
        "- ✅ **Feature Importance**: Pencere bazında\n",
        "\n",
        "---\n",
        "\n",
        "## 📌 Kullanım:\n",
        "\n",
        "1. **Runtime → Change runtime type → GPU (T4 önerilir)**\n",
        "2. **Adım 1'i çalıştırın** (Hazırlık)\n",
        "3. **Model seçeneğini çalıştırın** (2A veya 2B)\n",
        "4. **Model indirme adımını çalıştırın**\n",
        "5. **ZIP dosyasını lokal projenize kopyalayın**"
      ]
    },
    {
      "cell_type": "markdown",
      "metadata": {
        "id": "step1_header"
      },
      "source": [
        "# 📦 Adım 1: Hazırlık (Tüm Seçenekler İçin Gerekli)"
      ]
    },
    {
      "cell_type": "code",
      "metadata": {
        "id": "step1_code"
      },
      "source": [
        "import subprocess\n",
        "import sys\n",
        "import os\n",
        "\n",
        "print(\"=\"*80)\n",
        "print(\"📦 HAZIRLIK - Multi-Scale Sistem v4.0\")\n",
        "print(\"=\"*80)\n",
        "\n",
        "# Kütüphaneleri yükle\n",
        "print(\"\\n📦 Kütüphaneler yükleniyor...\")\n",
        "!pip install -q tensorflow scikit-learn catboost pandas numpy scipy joblib matplotlib seaborn tqdm PyWavelets nolds\n",
        "\n",
        "# Proje yükle\n",
        "if os.path.exists('jetxpredictor'):\n",
        "    !rm -rf jetxpredictor\n",
        "\n",
        "print(\"\\n📥 Proje GitHub'dan indiriliyor...\")\n",
        "!git clone https://github.com/onndd/jetxpredictor.git\n",
        "%cd jetxpredictor\n",
        "\n",
        "print(\"\\n✅ Hazırlık tamamlandı!\")\n",
        "print(\"\\n➡️ Şimdi aşağıdaki seçeneklerden BİRİNİ seçin:\")\n",
        "print(\"   • Progressive NN Multi-Scale için Adım 2A\")\n",
        "print(\"   • CatBoost Standard Multi-Scale için Adım 2B\")"
      ],
      "execution_count": null,
      "outputs": []
    },
    {
      "cell_type": "markdown",
      "metadata": {
        "id": "option_a_header"
      },
      "source": [
        "---\n",
        "\n",
        "# 🧠 SEÇENEK A: Progressive NN - Multi-Scale Ensemble\n",
        "\n",
        "**⏱️ Tahmini Süre: 10-12 saat (GPU ile)**\n",
        "\n",
        "**🆕 Multi-Scale Özellikleri:**\n",
        "- 5 farklı pencere boyutu için ayrı LSTM modelleri\n",
        "- Küçük pencereler (20, 50): Basit LSTM\n",
        "- Orta pencereler (100, 250): 2-layer LSTM\n",
        "- Büyük pencereler (500): 3-layer LSTM + Attention\n",
        "- Ensemble prediction: Tüm modellerin ortalaması"
      ]
    },
    {
      "cell_type": "markdown",
      "metadata": {
        "id": "step2a_header"
      },
      "source": [
        "## Adım 2A: Progressive NN Multi-Scale Eğitimi"
      ]
    },
    {
      "cell_type": "code",
      "metadata": {
        "id": "step2a_code"
      },
      "source": [
        "print(\"🧠 PROGRESSIVE NN - Multi-Scale Window Ensemble Başlatılıyor...\")\n",
        "print(\"⏱️ Tahmini süre: 10-12 saat (GPU ile)\")\n",
        "print(\"🆕 5 Model: Her pencere boyutu için ayrı model\")\n",
        "print(\"📊 Window boyutları: [500, 250, 100, 50, 20]\")\n",
        "print(\"=\"*70)\n",
        "\n",
        "!python notebooks/jetx_PROGRESSIVE_TRAINING_MULTISCALE.py\n",
        "\n",
        "print(\"\\n\" + \"=\"*70)\n",
        "print(\"✅ Progressive NN Multi-Scale eğitimi tamamlandı!\")\n",
        "print(\"✅ 5 model başarıyla eğitildi ve ensemble edildi\")\n",
        "print(\"\\n➡️ Şimdi 'Adım 3A: Model İndirme' hücresini çalıştırın\")"
      ],
      "execution_count": null,
      "outputs": []
    },
    {
      "cell_type": "markdown",
      "metadata": {
        "id": "step3a_header"
      },
      "source": [
        "### Adım 3A: Progressive NN Multi-Scale Modelini İndir"
      ]
    },
    {
      "cell_type": "code",
      "metadata": {
        "id": "step3a_code"
      },
      "source": [
        "import os\n",
        "\n",
        "print(\"💾 Progressive NN Multi-Scale dosyaları indiriliyor...\\n\")\n",
        "print(\"=\"*80)\n",
        "\n",
        "zip_file = 'jetx_models_progressive_multiscale_v3.0.zip'\n",
        "\n",
        "if os.path.exists(zip_file):\n",
        "    print(f\"✅ {zip_file} bulundu!\\n\")\n",
        "    \n",
        "    try:\n",
        "        from google.colab import files\n",
        "        print(f\"📥 Otomatik indirme başlatılıyor...\")\n",
        "        files.download(zip_file)\n",
        "        print(f\"✅ {zip_file} başarıyla indirildi!\\n\")\n",
        "    except Exception as e:\n",
        "        print(f\"⚠️ Otomatik indirme başarısız: {e}\\n\")\n",
        "        print(\"📁 MANUEL İNDİRME: Sol panelden Files → jetxpredictor → \" + zip_file + \" → Sağ tık → Download\")\n",
        "    \n",
        "    print(\"\\n📦 ZIP İÇERİĞİ (5 Window × 1 Model = 5 Model):\")\n",
        "    print(\"   • model_window_500.h5\")\n",
        "    print(\"   • model_window_250.h5\")\n",
        "    print(\"   • model_window_100.h5\")\n",
        "    print(\"   • model_window_50.h5\")\n",
        "    print(\"   • model_window_20.h5\")\n",
        "    print(\"   • scaler_window_*.pkl (Her pencere için)\")\n",
        "    print(\"   • model_info.json\")\n",
        "    \n",
        "    print(\"\\n🆕 MULTI-SCALE ÖZELLİKLERİ:\")\n",
        "    print(\"   ✅ 5 farklı zaman ölçeğinde öğrenme\")\n",
        "    print(\"   ✅ Ensemble prediction sistemi\")\n",
        "    print(\"   ✅ Veri bütünlüğü garantisi\")\n",
        "else:\n",
        "    print(f\"⚠️ {zip_file} bulunamadı!\")\n",
        "\n",
        "print(\"\\n🎉 Kullanıma hazır!\")"
      ],
      "execution_count": null,
      "outputs": []
    },
    {
      "cell_type": "markdown",
      "metadata": {
        "id": "option_b_header"
      },
      "source": [
        "---\n",
        "\n",
        "# ⚡ SEÇENEK B: CatBoost Standard - Multi-Scale Ensemble\n",
        "\n",
        "**⏱️ Tahmini Süre: 40-60 dakika**\n",
        "\n",
        "**🆕 Multi-Scale Özellikleri:**\n",
        "- 5 pencere × 2 model (Regressor + Classifier) = 10 model\n",
        "- Küçük pencereler: Agresif weights (25x)\n",
        "- Büyük pencereler: Dengeli weights (10x)\n",
        "- Ensemble prediction: Tüm modellerin ortalaması"
      ]
    },
    {
      "cell_type": "markdown",
      "metadata": {
        "id": "step2b_header"
      },
      "source": [
        "## Adım 2B: CatBoost Standard Multi-Scale Eğitimi"
      ]
    },
    {
      "cell_type": "code",
      "metadata": {
        "id": "step2b_code"
      },
      "source": [
        "print(\"⚡ CATBOOST STANDARD - Multi-Scale Window Ensemble Başlatılıyor...\")\n",
        "print(\"⏱️ Tahmini süre: 40-60 dakika\")\n",
        "print(\"🆕 10 Model: 5 pencere × 2 model (Reg + Cls)\")\n",
        "print(\"📊 Window boyutları: [500, 250, 100, 50, 20]\")\n",
        "print(\"=\"*70)\n",
        "\n",
        "!python notebooks/jetx_CATBOOST_TRAINING_MULTISCALE.py\n",
        "\n",
        "print(\"\\n\" + \"=\"*70)\n",
        "print(\"✅ CatBoost Standard Multi-Scale eğitimi tamamlandı!\")\n",
        "print(\"✅ 10 model başarıyla eğitildi ve ensemble edildi\")\n",
        "print(\"\\n➡️ Şimdi 'Adım 3B: Model İndirme' hücresini çalıştırın\")"
      ],
      "execution_count": null,
      "outputs": []
    },
    {
      "cell_type": "markdown",
      "metadata": {
        "id": "step3b_header"
      },
      "source": [
        "### Adım 3B: CatBoost Standard Multi-Scale Modelini İndir"
      ]
    },
    {
      "cell_type": "code",
      "metadata": {
        "id": "step3b_code"
      },
      "source": [
        "import os\n",
        "\n",
        "print(\"💾 CatBoost Standard Multi-Scale dosyaları indiriliyor...\\n\")\n",
        "print(\"=\"*80)\n",
        "\n",
        "zip_file = 'jetx_models_catboost_multiscale_v3.0.zip'\n",
        "\n",
        "if os.path.exists(zip_file):\n",
        "    print(f\"✅ {zip_file} bulundu!\\n\")\n",
        "    \n",
        "    try:\n",
        "        from google.colab import files\n",
        "        print(f\"📥 Otomatik indirme başlatılıyor...\")\n",
        "        files.download(zip_file)\n",
        "        print(f\"✅ {zip_file} başarıyla indirildi!\\n\")\n",
        "    except Exception as e:\n",
        "        print(f\"⚠️ Otomatik indirme başarısız: {e}\\n\")\n",
        "        print(\"📁 MANUEL İNDİRME: Sol panelden Files → jetxpredictor → \" + zip_file + \" → Sağ tık → Download\")\n",
        "    \n",
        "    print(\"\\n📦 ZIP İÇERİĞİ (5 Window × 2 Model = 10 Model):\")\n",
        "    print(\"   • regressor_window_500.cbm / classifier_window_500.cbm\")\n",
        "    print(\"   • regressor_window_250.cbm / classifier_window_250.cbm\")\n",
        "    print(\"   • regressor_window_100.cbm / classifier_window_100.cbm\")\n",
        "    print(\"   • regressor_window_50.cbm / classifier_window_50.cbm\")\n",
        "    print(\"   • regressor_window_20.cbm / classifier_window_20.cbm\")\n",
        "    print(\"   • scaler_window_*.pkl (Her pencere için)\")\n",
        "    print(\"   • model_info.json\")\n",
        "    \n",
        "    print(\"\\n🆕 MULTI-SCALE ÖZELLİKLERİ:\")\n",
        "    print(\"   ✅ 5 farklı zaman ölçeğinde öğrenme\")\n",
        "    print(\"   ✅ Pencere bazında optimize edilmiş weights\")\n",
        "    print(\"   ✅ Hızlı eğitim (40-60 dakika)\")\n",
        "else:\n",
        "    print(f\"⚠️ {zip_file} bulunamadı!\")\n",
        "\n",
        "print(\"\\n🎉 Kullanıma hazır!\")"
      ],
      "execution_count": null,
      "outputs": []
    },
    {
      "cell_type": "markdown",
      "metadata": {
        "id": "notes"
      },
      "source": [
        "---\n",
        "\n",
        "# 📋 Önemli Notlar\n",
        "\n",
        "## Multi-Scale Sistem Avantajları:\n",
        "\n",
        "**Farklı Zaman Ölçekleri:**\n",
        "- **Kısa pencereler (20, 50)**: Yakın zamandaki ani değişiklikler\n",
        "- **Orta pencereler (100, 250)**: Orta vadeli trendler\n",
        "- **Uzun pencereler (500)**: Uzun vadeli davranış kalıpları\n",
        "\n",
        "**Veri Bütünlüğü:**\n",
        "- ⛔ **Shuffle YOK**: Zaman serisi yapısı bozulmuyor\n",
        "- ⛔ **Augmentation YOK**: Yapay veri üretilmiyor\n",
        "- ✅ **Kronolojik Split**: Gerçek dünya test koşulları\n",
        "\n",
        "## Modeli Kullanma:\n",
        "\n",
        "1. **ZIP dosyasını açın**\n",
        "2. **Dosyaları `models/` klasörüne kopyalayın**\n",
        "3. **Streamlit uygulamasını başlatın**: `python -m streamlit run app.py`\n",
        "\n",
        "## Uyarılar:\n",
        "\n",
        "- 🚨 Bu modeller %100 doğru değildir\n",
        "- 💰 Yine de para kaybedebilirsiniz\n",
        "- 🎯 1.5x kritik eşiktir\n",
        "- 📊 Multi-scale ensemble daha dengeli tahminler sağlar\n",
        "\n",
        "**Sorumlu oynayın! 🎲**"
      ]
    }
  ]
}