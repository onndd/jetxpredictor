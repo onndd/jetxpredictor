{
 "cells": [
  {
   "cell_type": "markdown",
   "metadata": {
    "id": "header"
   },
   "source": [
    "# 🔥 JetX ULTRA AGGRESSIVE Model Eğitimi\n",
    "\n",
    "**Bu notebook ile modeli otomatik olarak eğitebilirsiniz.**\n",
    "\n",
    "## 📝 Nasıl Kullanılır:\n",
    "1. Sırayla her hücrenin sol tarafındaki ▶️ butonuna tıklayın\n",
    "2. Her adım tamamlandıktan sonra bir sonraki adıma geçin\n",
    "3. Eğitim bitince dosyalar otomatik indirilecek\n",
    "\n",
    "## ⏱️ Süre:\n",
    "- Eğitim: ~3-5 saat (GPU ile)\n",
    "- Bu süre normaldir ve model kalitesi için gereklidir!\n",
    "\n",
    "---"
   ]
  },
  {
   "cell_type": "markdown",
   "metadata": {
    "id": "step1"
   },
   "source": [
    "## 📦 Adım 1: Hazırlık (2-3 dakika)\n",
    "\n",
    "Aşağıdaki butona tıklayın. Kütüphaneler yüklenecek ve proje hazırlanacak."
   ]
  },
  {
   "cell_type": "code",
   "execution_count": null,
   "metadata": {
    "id": "setup",
    "cellView": "form"
   },
   "outputs": [],
   "source": [
    "#@title ▶️ Hazırlık - Buraya tıklayın { display-mode: \"form\" }\n",
    "print(\"📦 Kütüphaneler yükleniyor...\")\n",
    "!pip install -q tensorflow scikit-learn pandas numpy scipy joblib matplotlib seaborn tqdm\n",
    "\n",
    "print(\"\\n📥 Proje GitHub'dan indiriliyor...\")\n",
    "import os\n",
    "if os.path.exists('jetxpredictor'):\n",
    "    !rm -rf jetxpredictor\n",
    "!git clone https://github.com/onndd/jetxpredictor.git\n",
    "%cd jetxpredictor\n",
    "\n",
    "print(\"\\n✅ Hazırlık tamamlandı!\")\n",
    "print(\"\\n➡️ Şimdi bir sonraki hücreye geçin (aşağıdaki ▶️ butonuna tıklayın)\")"
   ]
  },
  {
   "cell_type": "markdown",
   "metadata": {
    "id": "step2"
   },
   "source": [
    "## 🔥 Adım 2: Model Eğitimi (3-5 saat)\n",
    "\n",
    "Aşağıdaki butona tıklayın. Model eğitimi başlayacak.\n",
    "\n",
    "**NOT:** Bu işlem uzun sürecek. Bilgisayarınızı kapatmayın!"
   ]
  },
  {
   "cell_type": "code",
   "execution_count": null,
   "metadata": {
    "id": "train",
    "cellView": "form"
   },
   "outputs": [],
   "source": [
    "#@title ▶️ Eğitimi Başlat - Buraya tıklayın { display-mode: \"form\" }\n",
    "print(\"🔥 ULTRA AGGRESSIVE Model Eğitimi Başlatılıyor...\")\n",
    "print(\"⏱️ Tahmini süre: 3-5 saat\")\n",
    "print(\"📊 İlerlemeyi aşağıda görebilirsiniz\\n\")\n",
    "print(\"=\"*70)\n",
    "\n",
    "!python notebooks/jetx_model_training_ULTRA_AGGRESSIVE.py\n",
    "\n",
    "print(\"\\n\" + \"=\"*70)\n",
    "print(\"✅ Eğitim tamamlandı!\")\n",
    "print(\"\\n➡️ Şimdi bir sonraki hücreye geçin (aşağıdaki ▶️ butonuna tıklayın)\")"
   ]
  },
  {
   "cell_type": "markdown",
   "metadata": {
    "id": "step3"
   },
   "source": [
    "## 💾 Adım 3: Modeli İndir\n",
    "\n",
    "Aşağıdaki butona tıklayın. Eğitilmiş model dosyaları indirilecek."
   ]
  },
  {
   "cell_type": "code",
   "execution_count": null,
   "metadata": {
    "id": "download",
    "cellView": "form"
   },
   "outputs": [],
   "source": [
    "#@title ▶️ Dosyaları İndir - Buraya tıklayın { display-mode: \"form\" }\n",
    "from google.colab import files\n",
    "import os\n",
    "\n",
    "print(\"💾 Dosyalar indiriliyor...\\n\")\n",
    "\n",
    "# Model dosyalarını kontrol et ve indir\n",
    "model_files = [\n",
    "    'jetx_ultra_model.h5',\n",
    "    'scaler_ultra.pkl',\n",
    "    'ultra_model_info.json'\n",
    "]\n",
    "\n",
    "for file in model_files:\n",
    "    if os.path.exists(file):\n",
    "        print(f\"📥 {file} indiriliyor...\")\n",
    "        files.download(file)\n",
    "    else:\n",
    "        print(f\"⚠️ {file} bulunamadı!\")\n",
    "\n",
    "print(\"\\n✅ Tüm dosyalar bilgisayarınıza indirildi!\")\n",
    "print(\"\\n📁 İndirilen dosyalar:\")\n",
    "print(\"   • jetx_ultra_model.h5 (Ana model dosyası)\")\n",
    "print(\"   • scaler_ultra.pkl (Normalizer)\")\n",
    "print(\"   • ultra_model_info.json (Model bilgileri)\")\n",
    "print(\"\\n➡️ Bu dosyaları lokal projenizin 'models/' klasörüne kopyalayın\")\n",
    "print(\"\\n🎉 Tamamlandı! Artık yeni modeli kullanabilirsiniz.\")"
   ]
  },
  {
   "cell_type": "markdown",
   "metadata": {
    "id": "info"
   },
   "source": [
    "---\n",
    "\n",
    "## 📊 Model Bilgileri\n",
    "\n",
    "Bu model özel olarak **1.5 altı tahminler** için optimize edilmiştir:\n",
    "\n",
    "### Hedefler:\n",
    "- 🔴 1.5 Altı Doğruluk: **%80+**\n",
    "- 🟢 1.5 Üstü Doğruluk: **%75+**\n",
    "- 💰 Para Kaybı Riski: **%15 altı**\n",
    "\n",
    "### Özellikleri:\n",
    "- ✅ 1000 epoch eğitim\n",
    "- ✅ Batch size: 4 (çok yavaş, çok iyi)\n",
    "- ✅ Class weight: 5x (1.5 altı için - dengeli)\n",
    "- ✅ Threshold Killer Loss (35x ceza - yumuşatıldı)\n",
    "- ✅ Learning Rate: 0.0001 (düşürüldü)\n",
    "- ✅ Model derinliği: 2-3x artırıldı\n",
    "\n",
    "### Kullanım:\n",
    "1. İndirdiğiniz dosyaları lokal projenizin `models/` klasörüne kopyalayın:\n",
    "   - `jetx_ultra_model.h5` → `models/jetx_model.h5`\n",
    "   - `scaler_ultra.pkl` → `models/scaler.pkl`\n",
    "2. Streamlit uygulamasını yeniden başlatın: `streamlit run app.py`\n",
    "3. Artık model 1.5 altı tahmin yapabilecek!\n",
    "\n",
    "---\n",
    "\n",
    "## ⚠️ Önemli Notlar:\n",
    "\n",
    "- 🚨 Bu model %100 doğru değildir\n",
    "- 💰 Para kaybedebilirsiniz\n",
    "- 🎯 1.5x kritik eşiktir\n",
    "- 📊 Model 1.5 altı tahminlerde sizi uyaracak\n",
    "\n",
    "**Sorumlu oynayın!** 🎲"
   ]
  }
 ],
 "metadata": {
  "colab": {
   "name": "JetX ULTRA AGGRESSIVE Model Eğitimi",
   "provenance": [],
   "collapsed_sections": []
  },
  "kernelspec": {
   "display_name": "Python 3",
   "language": "python",
   "name": "python3"
  },
  "language_info": {
   "name": "python",
   "version": "3.8.0"
  },
  "accelerator": "GPU"
 },
 "nbformat": 4,
 "nbformat_minor": 0
}
